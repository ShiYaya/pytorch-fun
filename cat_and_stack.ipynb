{
 "cells": [
  {
   "cell_type": "markdown",
   "metadata": {},
   "source": [
    "cat 和 stack 有什么不同呢？ 首先，对于输入的sequence中的每一个数据项，cat要求除了被cat的维以外，每一个数据项的其余维的shape要相同，而stack则更严格，必须每一个数据项的shape都相同。"
   ]
  },
  {
   "cell_type": "code",
   "execution_count": 1,
   "metadata": {
    "collapsed": true
   },
   "outputs": [],
   "source": [
    "import torch"
   ]
  },
  {
   "cell_type": "code",
   "execution_count": 2,
   "metadata": {
    "collapsed": false
   },
   "outputs": [
    {
     "name": "stdout",
     "output_type": "stream",
     "text": [
      "(\n",
      "-0.5373\n",
      " 0.2197\n",
      "[torch.FloatTensor of size 2]\n",
      ", \n",
      "-1.3853\n",
      "-0.9923\n",
      "[torch.FloatTensor of size 2]\n",
      ", \n",
      " 0.4214\n",
      "-0.3114\n",
      "[torch.FloatTensor of size 2]\n",
      ")\n"
     ]
    }
   ],
   "source": [
    "a = torch.randn(2)\n",
    "b = torch.randn(2)\n",
    "c = torch.randn(2)\n",
    "print(a, b, c)"
   ]
  },
  {
   "cell_type": "code",
   "execution_count": 3,
   "metadata": {
    "collapsed": false
   },
   "outputs": [
    {
     "name": "stdout",
     "output_type": "stream",
     "text": [
      "\n",
      "-0.5373\n",
      " 0.2197\n",
      "-1.3853\n",
      "-0.9923\n",
      " 0.4214\n",
      "-0.3114\n",
      "[torch.FloatTensor of size 6]\n",
      "\n",
      "\n",
      "-0.5373  0.2197\n",
      "-1.3853 -0.9923\n",
      " 0.4214 -0.3114\n",
      "[torch.FloatTensor of size 3x2]\n",
      "\n"
     ]
    }
   ],
   "source": [
    "print(torch.cat([a,b,c]))\n",
    "print(torch.stack([a, b, c]))"
   ]
  },
  {
   "cell_type": "markdown",
   "metadata": {},
   "source": [
    "可以看出来，cat不会增加维度，而stack会增加一个新维度"
   ]
  },
  {
   "cell_type": "markdown",
   "metadata": {},
   "source": [
    "看看二维的情况"
   ]
  },
  {
   "cell_type": "code",
   "execution_count": 5,
   "metadata": {
    "collapsed": false
   },
   "outputs": [
    {
     "name": "stdout",
     "output_type": "stream",
     "text": [
      "(\n",
      " 1.9868 -0.2245\n",
      " 0.2484 -0.9883\n",
      "[torch.FloatTensor of size 2x2]\n",
      ", \n",
      "-0.1606  2.0369\n",
      " 1.3831 -1.2906\n",
      "[torch.FloatTensor of size 2x2]\n",
      ", \n",
      " 1.6649  0.3678\n",
      "-1.5805  0.5220\n",
      "[torch.FloatTensor of size 2x2]\n",
      ")\n"
     ]
    }
   ],
   "source": [
    "aa = torch.randn(2, 2)\n",
    "bb = torch.randn(2, 2)\n",
    "cc = torch.randn(2, 2)\n",
    "print(aa, bb, cc)"
   ]
  },
  {
   "cell_type": "code",
   "execution_count": 6,
   "metadata": {
    "collapsed": false
   },
   "outputs": [
    {
     "name": "stdout",
     "output_type": "stream",
     "text": [
      "\n",
      " 1.9868 -0.2245\n",
      " 0.2484 -0.9883\n",
      "-0.1606  2.0369\n",
      " 1.3831 -1.2906\n",
      " 1.6649  0.3678\n",
      "-1.5805  0.5220\n",
      "[torch.FloatTensor of size 6x2]\n",
      "\n",
      "\n",
      "(0 ,.,.) = \n",
      "  1.9868 -0.2245\n",
      "  0.2484 -0.9883\n",
      "\n",
      "(1 ,.,.) = \n",
      " -0.1606  2.0369\n",
      "  1.3831 -1.2906\n",
      "\n",
      "(2 ,.,.) = \n",
      "  1.6649  0.3678\n",
      " -1.5805  0.5220\n",
      "[torch.FloatTensor of size 3x2x2]\n",
      "\n"
     ]
    }
   ],
   "source": [
    "print(torch.cat([aa, bb, cc]))\n",
    "print(torch.stack([aa, bb, cc]))"
   ]
  },
  {
   "cell_type": "code",
   "execution_count": 7,
   "metadata": {
    "collapsed": false
   },
   "outputs": [
    {
     "name": "stdout",
     "output_type": "stream",
     "text": [
      "\n",
      " 1.9868 -0.2245 -0.1606  2.0369  1.6649  0.3678\n",
      " 0.2484 -0.9883  1.3831 -1.2906 -1.5805  0.5220\n",
      "[torch.FloatTensor of size 2x6]\n",
      "\n",
      "\n",
      "(0 ,.,.) = \n",
      "  1.9868 -0.2245\n",
      " -0.1606  2.0369\n",
      "  1.6649  0.3678\n",
      "\n",
      "(1 ,.,.) = \n",
      "  0.2484 -0.9883\n",
      "  1.3831 -1.2906\n",
      " -1.5805  0.5220\n",
      "[torch.FloatTensor of size 2x3x2]\n",
      "\n"
     ]
    }
   ],
   "source": [
    "print(torch.cat([aa, bb, cc], 1))\n",
    "print(torch.stack([aa, bb, cc], 1))"
   ]
  },
  {
   "cell_type": "code",
   "execution_count": 13,
   "metadata": {
    "collapsed": false
   },
   "outputs": [
    {
     "name": "stdout",
     "output_type": "stream",
     "text": [
      "\n",
      " 1.9868 -0.2245\n",
      "-0.1606  2.0369\n",
      " 1.6649  0.3678\n",
      "[torch.FloatTensor of size 3x2]\n",
      "\n",
      "\n",
      " 1.9868 -0.2245\n",
      " 0.2484 -0.9883\n",
      "[torch.FloatTensor of size 2x2]\n",
      "\n",
      "\n",
      " 1  1\n",
      " 1  1\n",
      "[torch.ByteTensor of size 2x2]\n",
      "\n"
     ]
    }
   ],
   "source": [
    "t = torch.stack([aa, bb, cc], 1)\n",
    "print(t[:][0][:])\n",
    "print(t[:, 0, :])\n",
    "print(t[:, 0, :] == aa)"
   ]
  },
  {
   "cell_type": "markdown",
   "metadata": {},
   "source": [
    "从上面可以看出两件事：\n",
    "1. [:, 0, :]与 [:][0][:] 不同，前者是slice，可以解释成对第一维的每一项，取第二维的第一个，并且取第三维的每一项，是一个同时判断的过程。后者是index，可以解释成先取整个list，然后取list中的第一项，然后再取得到的list中的所有，是一个分步获取的过程。\n",
    "2. 用stack(sequence, dim)时，会在dim指定的维上做插入，并且该维的大小就是sequence的长度，要在cat的结果中获取原sequence的某项，可以通过在dim维上做索引得到。比如在第2维上做堆叠，要想获得原sequence中的第2个数据，就用[:, 1, :]来获取。"
   ]
  },
  {
   "cell_type": "code",
   "execution_count": 14,
   "metadata": {
    "collapsed": false
   },
   "outputs": [
    {
     "name": "stdout",
     "output_type": "stream",
     "text": [
      "\n",
      "(0 ,.,.) = \n",
      "  1.9868 -0.1606  1.6649\n",
      " -0.2245  2.0369  0.3678\n",
      "\n",
      "(1 ,.,.) = \n",
      "  0.2484  1.3831 -1.5805\n",
      " -0.9883 -1.2906  0.5220\n",
      "[torch.FloatTensor of size 2x2x3]\n",
      "\n"
     ]
    }
   ],
   "source": [
    "print(torch.stack([aa, bb, cc], 2))"
   ]
  },
  {
   "cell_type": "markdown",
   "metadata": {},
   "source": [
    "stack还能在原数据的最后一维的下一维上做堆叠，得到的新维和原数据的最后一维构成一个矩阵。"
   ]
  }
 ],
 "metadata": {
  "kernelspec": {
   "display_name": "Python 2",
   "language": "python",
   "name": "python2"
  },
  "language_info": {
   "codemirror_mode": {
    "name": "ipython",
    "version": 2
   },
   "file_extension": ".py",
   "mimetype": "text/x-python",
   "name": "python",
   "nbconvert_exporter": "python",
   "pygments_lexer": "ipython2",
   "version": "2.7.13"
  }
 },
 "nbformat": 4,
 "nbformat_minor": 2
}
